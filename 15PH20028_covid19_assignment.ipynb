{
  "nbformat": 4,
  "nbformat_minor": 0,
  "metadata": {
    "kernelspec": {
      "display_name": "base_python",
      "language": "python",
      "name": "base_python"
    },
    "colab": {
      "name": "15PH20028_covid19_assignment",
      "provenance": [],
      "collapsed_sections": [],
      "toc_visible": true
    }
  },
  "cells": [
    {
      "cell_type": "markdown",
      "metadata": {
        "id": "aeBC6c-tw_ud",
        "colab_type": "text"
      },
      "source": [
        "### AI61002 Project . Covid 19 Assignment\n",
        "# Bengali Digit Recognition in the Wild\n",
        "#### Submitted By\n",
        "# SHUBHRAJYOTI SARKAR\n",
        "# 15PH20028"
      ]
    },
    {
      "cell_type": "markdown",
      "metadata": {
        "id": "X3oX4ZZuaLnh",
        "colab_type": "text"
      },
      "source": [
        "Many concepts and codes have been used from: https://pytorch.org/tutorials/beginner/transfer_learning_tutorial.html"
      ]
    },
    {
      "cell_type": "markdown",
      "metadata": {
        "id": "5g-TsFUEv_GC",
        "colab_type": "text"
      },
      "source": [
        "## Discussion with batchmates and friends for better understanding as well."
      ]
    },
    {
      "cell_type": "markdown",
      "metadata": {
        "id": "BMYKwDVVaLni",
        "colab_type": "text"
      },
      "source": [
        "Questions\n",
        "Q: how you have split the dataset into train, test, validation?  \n",
        "A: Test dataset was already given, therefore I have splitted the other data into train and validation only.\n",
        "\n",
        "\n",
        "Q: Chave you taken any methods to compensate for class imbalance?  \n",
        "A: Yes I have used the oversampling mothod.\n",
        "\n",
        "Q: any conditions of hot restart during training?  \n",
        "A: yes I have incorporated this.\n",
        "\n",
        "Q: present the training/validation loss curves and indicate how you have chosen the stopping criteria?  \n",
        "A: when validation loss starts increasing, It also has bn used as the stopping criteria"
      ]
    },
    {
      "cell_type": "code",
      "metadata": {
        "id": "a1VCl4zNaLnp",
        "colab_type": "code",
        "colab": {
          "base_uri": "https://localhost:8080/",
          "height": 71
        },
        "outputId": "1c76ef2f-b1db-4663-e2a3-bbd06eb5e9a9"
      },
      "source": [
        "# Basic libraries\n",
        "import os, sys, math, time, copy, shutil, random\n",
        "from collections import Counter\n",
        "\n",
        "# Image libraries\n",
        "import seaborn as sns\n",
        "from PIL import Image\n",
        "\n",
        "# Dataset libraries\n",
        "import numpy as np\n",
        "import pandas as pd\n",
        "import matplotlib.pyplot as plt\n",
        "\n",
        "# Scikit learn libraries\n",
        "from sklearn.utils import resample\n",
        "from skimage import io, transform\n",
        "\n",
        "# Torch libraries\n",
        "import torch\n",
        "from torch.utils.data import DataLoader, Dataset\n",
        "from torchvision import transforms, datasets, models\n",
        "import torch.nn as nn\n",
        "import torch.nn.functional as F\n",
        "import torch.optim as optim\n",
        "from torch.optim import lr_scheduler"
      ],
      "execution_count": 1,
      "outputs": [
        {
          "output_type": "stream",
          "text": [
            "/usr/local/lib/python3.6/dist-packages/statsmodels/tools/_testing.py:19: FutureWarning: pandas.util.testing is deprecated. Use the functions in the public API at pandas.testing instead.\n",
            "  import pandas.util.testing as tm\n"
          ],
          "name": "stderr"
        }
      ]
    },
    {
      "cell_type": "markdown",
      "metadata": {
        "id": "o3rAdjc8hlTw",
        "colab_type": "text"
      },
      "source": [
        "## Importing data"
      ]
    },
    {
      "cell_type": "code",
      "metadata": {
        "id": "3u45i9kZaLoX",
        "colab_type": "code",
        "outputId": "dea77c3b-7c2a-445d-8a64-59203a27779d",
        "colab": {}
      },
      "source": [
        "PATH = \"data/dataset/\"\n",
        "df = pd.read_csv(\"data/dataset/Covid19action-radiology-CXR_v1.1/Train_Combined.csv\")\n",
        "df"
      ],
      "execution_count": 0,
      "outputs": [
        {
          "output_type": "execute_result",
          "data": {
            "text/html": [
              "<div>\n",
              "<style scoped>\n",
              "    .dataframe tbody tr th:only-of-type {\n",
              "        vertical-align: middle;\n",
              "    }\n",
              "\n",
              "    .dataframe tbody tr th {\n",
              "        vertical-align: top;\n",
              "    }\n",
              "\n",
              "    .dataframe thead th {\n",
              "        text-align: right;\n",
              "    }\n",
              "</style>\n",
              "<table border=\"1\" class=\"dataframe\">\n",
              "  <thead>\n",
              "    <tr style=\"text-align: right;\">\n",
              "      <th></th>\n",
              "      <th>Image Name</th>\n",
              "      <th>Data Source</th>\n",
              "      <th>Partition</th>\n",
              "      <th>Non-Pneumonia</th>\n",
              "      <th>Other Pneumonia</th>\n",
              "      <th>COVID-19</th>\n",
              "    </tr>\n",
              "  </thead>\n",
              "  <tbody>\n",
              "    <tr>\n",
              "      <th>0</th>\n",
              "      <td>CASE58_XRAY_1.jpeg</td>\n",
              "      <td>Source-2</td>\n",
              "      <td>1</td>\n",
              "      <td>0</td>\n",
              "      <td>0</td>\n",
              "      <td>1</td>\n",
              "    </tr>\n",
              "    <tr>\n",
              "      <th>1</th>\n",
              "      <td>case2_xray_1.jpeg</td>\n",
              "      <td>Source-2</td>\n",
              "      <td>1</td>\n",
              "      <td>0</td>\n",
              "      <td>0</td>\n",
              "      <td>1</td>\n",
              "    </tr>\n",
              "    <tr>\n",
              "      <th>2</th>\n",
              "      <td>case2_xray_2.jpeg</td>\n",
              "      <td>Source-2</td>\n",
              "      <td>1</td>\n",
              "      <td>0</td>\n",
              "      <td>0</td>\n",
              "      <td>1</td>\n",
              "    </tr>\n",
              "    <tr>\n",
              "      <th>3</th>\n",
              "      <td>case8_xray_1.jpeg</td>\n",
              "      <td>Source-2</td>\n",
              "      <td>1</td>\n",
              "      <td>0</td>\n",
              "      <td>0</td>\n",
              "      <td>1</td>\n",
              "    </tr>\n",
              "    <tr>\n",
              "      <th>4</th>\n",
              "      <td>case8_xray_2.jpeg</td>\n",
              "      <td>Source-2</td>\n",
              "      <td>1</td>\n",
              "      <td>0</td>\n",
              "      <td>0</td>\n",
              "      <td>1</td>\n",
              "    </tr>\n",
              "    <tr>\n",
              "      <th>...</th>\n",
              "      <td>...</td>\n",
              "      <td>...</td>\n",
              "      <td>...</td>\n",
              "      <td>...</td>\n",
              "      <td>...</td>\n",
              "      <td>...</td>\n",
              "    </tr>\n",
              "    <tr>\n",
              "      <th>228933</th>\n",
              "      <td>aspiration-pneumonia-5-day27.jpg</td>\n",
              "      <td>Source-5</td>\n",
              "      <td>4</td>\n",
              "      <td>0</td>\n",
              "      <td>1</td>\n",
              "      <td>0</td>\n",
              "    </tr>\n",
              "    <tr>\n",
              "      <th>228934</th>\n",
              "      <td>pneumocystis-jirovecii-pneumonia-3-1.jpg</td>\n",
              "      <td>Source-5</td>\n",
              "      <td>4</td>\n",
              "      <td>0</td>\n",
              "      <td>1</td>\n",
              "      <td>0</td>\n",
              "    </tr>\n",
              "    <tr>\n",
              "      <th>228935</th>\n",
              "      <td>pneumocystis-jirovecii-pneumonia-3-2.jpg</td>\n",
              "      <td>Source-5</td>\n",
              "      <td>4</td>\n",
              "      <td>0</td>\n",
              "      <td>1</td>\n",
              "      <td>0</td>\n",
              "    </tr>\n",
              "    <tr>\n",
              "      <th>228936</th>\n",
              "      <td>pneumocystis-jirovecii-pneumonia-3-3.jpg</td>\n",
              "      <td>Source-5</td>\n",
              "      <td>4</td>\n",
              "      <td>0</td>\n",
              "      <td>1</td>\n",
              "      <td>0</td>\n",
              "    </tr>\n",
              "    <tr>\n",
              "      <th>228937</th>\n",
              "      <td>X-ray_of_cyst_in_pneumocystis_pneumonia_1.jpg</td>\n",
              "      <td>Source-5</td>\n",
              "      <td>5</td>\n",
              "      <td>0</td>\n",
              "      <td>1</td>\n",
              "      <td>0</td>\n",
              "    </tr>\n",
              "  </tbody>\n",
              "</table>\n",
              "<p>228938 rows × 6 columns</p>\n",
              "</div>"
            ],
            "text/plain": [
              "                                           Image Name Data Source  Partition  \\\n",
              "0                                  CASE58_XRAY_1.jpeg    Source-2          1   \n",
              "1                                   case2_xray_1.jpeg    Source-2          1   \n",
              "2                                   case2_xray_2.jpeg    Source-2          1   \n",
              "3                                   case8_xray_1.jpeg    Source-2          1   \n",
              "4                                   case8_xray_2.jpeg    Source-2          1   \n",
              "...                                               ...         ...        ...   \n",
              "228933               aspiration-pneumonia-5-day27.jpg    Source-5          4   \n",
              "228934       pneumocystis-jirovecii-pneumonia-3-1.jpg    Source-5          4   \n",
              "228935       pneumocystis-jirovecii-pneumonia-3-2.jpg    Source-5          4   \n",
              "228936       pneumocystis-jirovecii-pneumonia-3-3.jpg    Source-5          4   \n",
              "228937  X-ray_of_cyst_in_pneumocystis_pneumonia_1.jpg    Source-5          5   \n",
              "\n",
              "        Non-Pneumonia  Other Pneumonia  COVID-19  \n",
              "0                   0                0         1  \n",
              "1                   0                0         1  \n",
              "2                   0                0         1  \n",
              "3                   0                0         1  \n",
              "4                   0                0         1  \n",
              "...               ...              ...       ...  \n",
              "228933              0                1         0  \n",
              "228934              0                1         0  \n",
              "228935              0                1         0  \n",
              "228936              0                1         0  \n",
              "228937              0                1         0  \n",
              "\n",
              "[228938 rows x 6 columns]"
            ]
          },
          "metadata": {
            "tags": []
          },
          "execution_count": 8
        }
      ]
    },
    {
      "cell_type": "code",
      "metadata": {
        "id": "vh-fi8KEaLok",
        "colab_type": "code",
        "outputId": "29c9a629-1039-44c9-be8e-707b3c16a46d",
        "colab": {}
      },
      "source": [
        "df[\"Data Source\"].value_counts()"
      ],
      "execution_count": 0,
      "outputs": [
        {
          "output_type": "execute_result",
          "data": {
            "text/plain": [
              "Source-3    223414\n",
              "Source-4      5232\n",
              "Source-5       128\n",
              "Source-1       109\n",
              "Source-2        54\n",
              "Source-7         1\n",
              "Name: Data Source, dtype: int64"
            ]
          },
          "metadata": {
            "tags": []
          },
          "execution_count": 9
        }
      ]
    },
    {
      "cell_type": "markdown",
      "metadata": {
        "id": "kA3X3BMch1_K",
        "colab_type": "text"
      },
      "source": [
        "### Function to get image from source directory with `img_name` name and plot if `plot = True`"
      ]
    },
    {
      "cell_type": "code",
      "metadata": {
        "id": "RxijnRZyaLot",
        "colab_type": "code",
        "colab": {}
      },
      "source": [
        "def getImage(source, img_name, plot=False):\n",
        "    path = None\n",
        "    if source == 1:\n",
        "        path = PATH + \"Covid19action-radiology-CXR_v1.1/images/Source1/\"\n",
        "        \n",
        "    elif source == 2:\n",
        "        path = PATH + \"Covid19action-radiology-CXR_v1.1/images/Source2/\"\n",
        "        \n",
        "    elif source == 3:\n",
        "        # have to modify image name for this case\n",
        "        # splitting image name accordingly\n",
        "        z = img_name.split(\"__\")\n",
        "        img_name = z[-1]\n",
        "        z[0] = z[0].split(\"/\")[1] # Remove train_reshape\n",
        "        z = z[:-1] # remove last 2 \n",
        "        path = PATH + '/'.join([x for x in z]) + '/'\n",
        "    elif source == 4:\n",
        "        path = PATH + \"rsna-pneumonia-detection-challenge/stage_2_test_images/\"\n",
        "    \n",
        "    elif source == 5:\n",
        "        path = PATH + \"covid-chestxray-dataset-master/images/\"\n",
        "        \n",
        "    elif source == 6:\n",
        "        path = PATH + \"Figure1-COVID-chestxray-dataset-master/images/\"\n",
        "    elif source == 7:\n",
        "        path = PATH + \"Covid19action-radiology-CXR_v1.1/images/Source7/\"\n",
        "    # for some images in testing file type is missing\n",
        "    try:\n",
        "        img = Image.open(path + img_name)\n",
        "    except:\n",
        "        try:\n",
        "            img = Image.open(path+img_name + \".jpg\")\n",
        "        except:\n",
        "            img = Image.open(path+img_name + \".png\")\n",
        "    if plot: \n",
        "        plt.imshow(img)\n",
        "        plt.show()\n",
        "    return img\n",
        "        "
      ],
      "execution_count": 0,
      "outputs": []
    },
    {
      "cell_type": "markdown",
      "metadata": {
        "id": "EPRXAL9TaLo0",
        "colab_type": "text"
      },
      "source": [
        "### Visualizing images from some source"
      ]
    },
    {
      "cell_type": "code",
      "metadata": {
        "id": "p8php1kPaLo1",
        "colab_type": "code",
        "outputId": "25fce7bf-af18-469b-ddd7-e852c34fce36",
        "colab": {}
      },
      "source": [
        "tmp = getImage(1, \"EUNQ4TDXkAAxvth.jfif\", plot=True)"
      ],
      "execution_count": 0,
      "outputs": [
        {
          "output_type": "display_data",
          "data": {
            "image/png": "[encoded data removed]",
            "text/plain": [
              "<Figure size 432x288 with 1 Axes>"
            ]
          },
          "metadata": {
            "tags": [],
            "needs_background": "light"
          }
        }
      ]
    },
    {
      "cell_type": "code",
      "metadata": {
        "id": "eNRq1RdjaLo8",
        "colab_type": "code",
        "outputId": "16d913be-f63d-479d-9786-b34eb8bbd527",
        "colab": {}
      },
      "source": [
        "tmp = getImage(2, \"CASE58_XRAY_1.jpeg\", plot=True)"
      ],
      "execution_count": 0,
      "outputs": [
        {
          "output_type": "display_data",
          "data": {
            "image/png": "[encoded data removed]",
            "text/plain": [
              "<Figure size 432x288 with 1 Axes>"
            ]
          },
          "metadata": {
            "tags": [],
            "needs_background": "light"
          }
        }
      ]
    },
    {
      "cell_type": "code",
      "metadata": {
        "id": "J5GErxhQaLpW",
        "colab_type": "code",
        "outputId": "f4508af6-c548-437e-d9a0-54027a5399f0",
        "colab": {}
      },
      "source": [
        "tmp = getImage(5, \"covid-19-pneumonia-15-PA.jpg\", plot=True)"
      ],
      "execution_count": 0,
      "outputs": [
        {
          "output_type": "display_data",
          "data": {
            "image/png": "[encoded data removed]",
            "text/plain": [
              "<Figure size 432x288 with 1 Axes>"
            ]
          },
          "metadata": {
            "tags": [],
            "needs_background": "light"
          }
        }
      ]
    },
    {
      "cell_type": "code",
      "metadata": {
        "id": "XM4V8-tvaLpm",
        "colab_type": "code",
        "colab": {}
      },
      "source": [
        "df[\"Other Pneumonia\"] += 1\n",
        "df[\"Non-Pneumonia\"] += 1\n",
        "# df = df[df[\"Data Source\"] != \"Source-4\"]\n",
        "# currently source 4 doesn't work\n",
        "df = df[df[\"Data Source\"] != \"Source-4\"]"
      ],
      "execution_count": 0,
      "outputs": []
    },
    {
      "cell_type": "markdown",
      "metadata": {
        "id": "wmspjqYoaLpu",
        "colab_type": "text"
      },
      "source": [
        "## Data classification visualization and making histogram"
      ]
    },
    {
      "cell_type": "markdown",
      "metadata": {
        "id": "sgA2uq7LjOPN",
        "colab_type": "text"
      },
      "source": [
        "### Function to plot frequency histogram for a given set of xray results"
      ]
    },
    {
      "cell_type": "code",
      "metadata": {
        "id": "fFy8zyX3aLpv",
        "colab_type": "code",
        "colab": {}
      },
      "source": [
        "def plot_freq_chart(freq):\n",
        "    sns.barplot(freq.index, freq.values)\n",
        "    plt.title('Class frequency')\n",
        "    plt.ylabel('Number of Occurrences', fontsize=12)\n",
        "    plt.xlabel('city', fontsize=1)\n",
        "    plt.show()\n"
      ],
      "execution_count": 0,
      "outputs": []
    },
    {
      "cell_type": "markdown",
      "metadata": {
        "id": "ZXu4BmfSjX_1",
        "colab_type": "text"
      },
      "source": [
        "### Plot frequency graph for `Non - Pneumonia` class"
      ]
    },
    {
      "cell_type": "code",
      "metadata": {
        "id": "N5IVQIq0aLp3",
        "colab_type": "code",
        "outputId": "4bf34c64-21a6-4f1a-a3da-e7c44e7217ba",
        "colab": {}
      },
      "source": [
        "tmp = df[\"Non-Pneumonia\"].value_counts()\n",
        "plot_freq_chart(tmp)"
      ],
      "execution_count": 0,
      "outputs": [
        {
          "output_type": "display_data",
          "data": {
            "image/png": "[encoded data removed]",
            "text/plain": [
              "<Figure size 432x288 with 1 Axes>"
            ]
          },
          "metadata": {
            "tags": [],
            "needs_background": "light"
          }
        }
      ]
    },
    {
      "cell_type": "markdown",
      "metadata": {
        "id": "FlcD5FPDjgu5",
        "colab_type": "text"
      },
      "source": [
        "### Plot frequency graph for `Other Pneumonia` class"
      ]
    },
    {
      "cell_type": "code",
      "metadata": {
        "id": "l085zPwNaLp9",
        "colab_type": "code",
        "outputId": "5b364ced-14b5-42b9-ddc1-b3ee40f01222",
        "colab": {}
      },
      "source": [
        "tmp = df[\"Other Pneumonia\"].value_counts()\n",
        "plot_freq_chart(tmp)"
      ],
      "execution_count": 0,
      "outputs": [
        {
          "output_type": "display_data",
          "data": {
            "image/png": "[encoded data removed]",
            "text/plain": [
              "<Figure size 432x288 with 1 Axes>"
            ]
          },
          "metadata": {
            "tags": [],
            "needs_background": "light"
          }
        }
      ]
    },
    {
      "cell_type": "markdown",
      "metadata": {
        "id": "QbZoUe0Xjjqe",
        "colab_type": "text"
      },
      "source": [
        "### Plot frequency graph for `COVID-19` class"
      ]
    },
    {
      "cell_type": "code",
      "metadata": {
        "id": "pCICe6LnaLqB",
        "colab_type": "code",
        "outputId": "970a0b0f-d1d7-4d6b-fc15-ea289a0fbeb3",
        "colab": {}
      },
      "source": [
        "tmp = df[\"COVID-19\"].value_counts()\n",
        "plot_freq_chart(tmp)"
      ],
      "execution_count": 0,
      "outputs": [
        {
          "output_type": "display_data",
          "data": {
            "image/png": "[encoded data removed]",
            "text/plain": [
              "<Figure size 432x288 with 1 Axes>"
            ]
          },
          "metadata": {
            "tags": [],
            "needs_background": "light"
          }
        }
      ]
    },
    {
      "cell_type": "markdown",
      "metadata": {
        "id": "kPAADI2maLqJ",
        "colab_type": "text"
      },
      "source": [
        "## Train - Validation Split"
      ]
    },
    {
      "cell_type": "markdown",
      "metadata": {
        "id": "xNFLhy5rjv23",
        "colab_type": "text"
      },
      "source": [
        "`# Train Data Points = 0.8 * Total Data Points`\n",
        "\n",
        "`# Validation Data Points = 0.2 * Total Data Points`"
      ]
    },
    {
      "cell_type": "code",
      "metadata": {
        "id": "9gbc5KFNaLqL",
        "colab_type": "code",
        "colab": {}
      },
      "source": [
        "train_size = int(0.8 * len (df))\n",
        "valid_size = len (df) - train_size\n",
        "train, validate = np.split(df.sample(frac=1), [train_size])"
      ],
      "execution_count": 0,
      "outputs": []
    },
    {
      "cell_type": "markdown",
      "metadata": {
        "id": "9fOgB7_TaLqT",
        "colab_type": "text"
      },
      "source": [
        "## CovidDataset class to load the given dataset"
      ]
    },
    {
      "cell_type": "code",
      "metadata": {
        "id": "HC14O50waLqV",
        "colab_type": "code",
        "colab": {}
      },
      "source": [
        "class CovidDataset(Dataset):\n",
        "    \n",
        "    def __init__(self, df, is_test, col_no, transform=None):\n",
        "        self.data = df\n",
        "        self.transform = transform\n",
        "        self.test = is_test\n",
        "        self.col_no = col_no\n",
        "        \n",
        "    def __len__(self):\n",
        "        return len(self.data)\n",
        "    \n",
        "    def __getitem__(self, index):\n",
        "        img_name = self.data.iloc[index, 0]\n",
        "        source = int(self.data.iloc[index, 1].split(\"-\")[-1])\n",
        "        image = mod(source, img_name)\n",
        "        label =self.data.iloc[index][3:][self.col_no]\n",
        "        \n",
        "        if self.transform is not None:\n",
        "            # converting image to black and white\n",
        "#             image = image.convert('1')\n",
        "            #converting to rgb\n",
        "            image = image.convert('RGB')\n",
        "            # applying transforms\n",
        "            image = self.transform(image)\n",
        "        \n",
        "        # for train loader it returns label and image both but for test loader returns only image \n",
        "        if self.test:\n",
        "            return image\n",
        "        else:\n",
        "            return image, label"
      ],
      "execution_count": 0,
      "outputs": []
    },
    {
      "cell_type": "markdown",
      "metadata": {
        "id": "3RO1DEVYkgyh",
        "colab_type": "text"
      },
      "source": [
        "### Visualizing data in form of table (panda's default form)"
      ]
    },
    {
      "cell_type": "code",
      "metadata": {
        "id": "CqV_Q8YtaLqh",
        "colab_type": "code",
        "outputId": "e0e2e3d4-c4ad-4ef8-f253-2722e03b0bec",
        "colab": {}
      },
      "source": [
        "df"
      ],
      "execution_count": 0,
      "outputs": [
        {
          "output_type": "execute_result",
          "data": {
            "text/html": [
              "<div>\n",
              "<style scoped>\n",
              "    .dataframe tbody tr th:only-of-type {\n",
              "        vertical-align: middle;\n",
              "    }\n",
              "\n",
              "    .dataframe tbody tr th {\n",
              "        vertical-align: top;\n",
              "    }\n",
              "\n",
              "    .dataframe thead th {\n",
              "        text-align: right;\n",
              "    }\n",
              "</style>\n",
              "<table border=\"1\" class=\"dataframe\">\n",
              "  <thead>\n",
              "    <tr style=\"text-align: right;\">\n",
              "      <th></th>\n",
              "      <th>Image Name</th>\n",
              "      <th>Data Source</th>\n",
              "      <th>Partition</th>\n",
              "      <th>Non-Pneumonia</th>\n",
              "      <th>Other Pneumonia</th>\n",
              "      <th>COVID-19</th>\n",
              "    </tr>\n",
              "  </thead>\n",
              "  <tbody>\n",
              "    <tr>\n",
              "      <th>0</th>\n",
              "      <td>CASE58_XRAY_1.jpeg</td>\n",
              "      <td>Source-2</td>\n",
              "      <td>1</td>\n",
              "      <td>1</td>\n",
              "      <td>1</td>\n",
              "      <td>1</td>\n",
              "    </tr>\n",
              "    <tr>\n",
              "      <th>1</th>\n",
              "      <td>case2_xray_1.jpeg</td>\n",
              "      <td>Source-2</td>\n",
              "      <td>1</td>\n",
              "      <td>1</td>\n",
              "      <td>1</td>\n",
              "      <td>1</td>\n",
              "    </tr>\n",
              "    <tr>\n",
              "      <th>2</th>\n",
              "      <td>case2_xray_2.jpeg</td>\n",
              "      <td>Source-2</td>\n",
              "      <td>1</td>\n",
              "      <td>1</td>\n",
              "      <td>1</td>\n",
              "      <td>1</td>\n",
              "    </tr>\n",
              "    <tr>\n",
              "      <th>3</th>\n",
              "      <td>case8_xray_1.jpeg</td>\n",
              "      <td>Source-2</td>\n",
              "      <td>1</td>\n",
              "      <td>1</td>\n",
              "      <td>1</td>\n",
              "      <td>1</td>\n",
              "    </tr>\n",
              "    <tr>\n",
              "      <th>4</th>\n",
              "      <td>case8_xray_2.jpeg</td>\n",
              "      <td>Source-2</td>\n",
              "      <td>1</td>\n",
              "      <td>1</td>\n",
              "      <td>1</td>\n",
              "      <td>1</td>\n",
              "    </tr>\n",
              "    <tr>\n",
              "      <th>...</th>\n",
              "      <td>...</td>\n",
              "      <td>...</td>\n",
              "      <td>...</td>\n",
              "      <td>...</td>\n",
              "      <td>...</td>\n",
              "      <td>...</td>\n",
              "    </tr>\n",
              "    <tr>\n",
              "      <th>228933</th>\n",
              "      <td>aspiration-pneumonia-5-day27.jpg</td>\n",
              "      <td>Source-5</td>\n",
              "      <td>4</td>\n",
              "      <td>1</td>\n",
              "      <td>2</td>\n",
              "      <td>0</td>\n",
              "    </tr>\n",
              "    <tr>\n",
              "      <th>228934</th>\n",
              "      <td>pneumocystis-jirovecii-pneumonia-3-1.jpg</td>\n",
              "      <td>Source-5</td>\n",
              "      <td>4</td>\n",
              "      <td>1</td>\n",
              "      <td>2</td>\n",
              "      <td>0</td>\n",
              "    </tr>\n",
              "    <tr>\n",
              "      <th>228935</th>\n",
              "      <td>pneumocystis-jirovecii-pneumonia-3-2.jpg</td>\n",
              "      <td>Source-5</td>\n",
              "      <td>4</td>\n",
              "      <td>1</td>\n",
              "      <td>2</td>\n",
              "      <td>0</td>\n",
              "    </tr>\n",
              "    <tr>\n",
              "      <th>228936</th>\n",
              "      <td>pneumocystis-jirovecii-pneumonia-3-3.jpg</td>\n",
              "      <td>Source-5</td>\n",
              "      <td>4</td>\n",
              "      <td>1</td>\n",
              "      <td>2</td>\n",
              "      <td>0</td>\n",
              "    </tr>\n",
              "    <tr>\n",
              "      <th>228937</th>\n",
              "      <td>X-ray_of_cyst_in_pneumocystis_pneumonia_1.jpg</td>\n",
              "      <td>Source-5</td>\n",
              "      <td>5</td>\n",
              "      <td>1</td>\n",
              "      <td>2</td>\n",
              "      <td>0</td>\n",
              "    </tr>\n",
              "  </tbody>\n",
              "</table>\n",
              "<p>223706 rows × 6 columns</p>\n",
              "</div>"
            ],
            "text/plain": [
              "                                           Image Name Data Source  Partition  \\\n",
              "0                                  CASE58_XRAY_1.jpeg    Source-2          1   \n",
              "1                                   case2_xray_1.jpeg    Source-2          1   \n",
              "2                                   case2_xray_2.jpeg    Source-2          1   \n",
              "3                                   case8_xray_1.jpeg    Source-2          1   \n",
              "4                                   case8_xray_2.jpeg    Source-2          1   \n",
              "...                                               ...         ...        ...   \n",
              "228933               aspiration-pneumonia-5-day27.jpg    Source-5          4   \n",
              "228934       pneumocystis-jirovecii-pneumonia-3-1.jpg    Source-5          4   \n",
              "228935       pneumocystis-jirovecii-pneumonia-3-2.jpg    Source-5          4   \n",
              "228936       pneumocystis-jirovecii-pneumonia-3-3.jpg    Source-5          4   \n",
              "228937  X-ray_of_cyst_in_pneumocystis_pneumonia_1.jpg    Source-5          5   \n",
              "\n",
              "        Non-Pneumonia  Other Pneumonia  COVID-19  \n",
              "0                   1                1         1  \n",
              "1                   1                1         1  \n",
              "2                   1                1         1  \n",
              "3                   1                1         1  \n",
              "4                   1                1         1  \n",
              "...               ...              ...       ...  \n",
              "228933              1                2         0  \n",
              "228934              1                2         0  \n",
              "228935              1                2         0  \n",
              "228936              1                2         0  \n",
              "228937              1                2         0  \n",
              "\n",
              "[223706 rows x 6 columns]"
            ]
          },
          "metadata": {
            "tags": []
          },
          "execution_count": 24
        }
      ]
    },
    {
      "cell_type": "code",
      "metadata": {
        "id": "NPqLRkS3aLqq",
        "colab_type": "code",
        "colab": {}
      },
      "source": [
        "# train = train[:10]\n",
        "# validate = validate[:10]"
      ],
      "execution_count": 0,
      "outputs": []
    },
    {
      "cell_type": "markdown",
      "metadata": {
        "id": "gxvybkhUk_JI",
        "colab_type": "text"
      },
      "source": [
        "### Transformers for data augmentation and data transformation"
      ]
    },
    {
      "cell_type": "code",
      "metadata": {
        "id": "C6mggx6laLqy",
        "colab_type": "code",
        "colab": {}
      },
      "source": [
        "# apply_transform = transforms.Compose([\n",
        "#     transforms.Resize((32, 32)), \n",
        "#     transforms.ToTensor(),\n",
        "#     transforms.Normalize([0.485, 0.456, 0.406], [0.229, 0.224, 0.225])\n",
        "# ])\n",
        "# BatchSize = 512\n",
        "\n",
        "# train_ = CovidDataset(train, False, 0, transform=apply_transform)\n",
        "# trainLoader = torch.utils.data.DataLoader(train_, batch_size=BatchSize,\n",
        "#                                           shuffle=True, num_workers=0) # Creating dataloader\n",
        "\n",
        "# validate_ = CovidDataset(validate, False, 0, transform=apply_transform)\n",
        "# validateLoader = torch.utils.data.DataLoader(validate_, batch_size=BatchSize,\n",
        "#                                           shuffle=False, num_workers=0)"
      ],
      "execution_count": 0,
      "outputs": []
    },
    {
      "cell_type": "markdown",
      "metadata": {
        "id": "oojOtqEQlFx8",
        "colab_type": "text"
      },
      "source": [
        "## Dataloaders to load data from dataset and feed it into Deep Learning model ( Data is taken from training loader while training and from validloader while validating )"
      ]
    },
    {
      "cell_type": "code",
      "metadata": {
        "id": "7-rjbDKIaLq5",
        "colab_type": "code",
        "colab": {}
      },
      "source": [
        "# dataloaders = {\n",
        "#     'train': trainLoader,\n",
        "#     'val': validateLoader\n",
        "# }\n",
        "\n",
        "# dataset_sizes = {\n",
        "#     'train': len(train),\n",
        "#     'val': len(validate)\n",
        "# }"
      ],
      "execution_count": 0,
      "outputs": []
    },
    {
      "cell_type": "markdown",
      "metadata": {
        "id": "G3_6zFOJlWN_",
        "colab_type": "text"
      },
      "source": [
        "## Function to train model\n",
        "\n",
        "It accepts some parameters:\n",
        "1. dataloaders : train and valid data loaders as a dictionary\n",
        "2. dataset_sizes : tuple or list of integers with size = 2 (size of train dataset, size of the validation dataset)\n",
        "3. model : Computer Vision model to train\n",
        "4. criterion : Criterion to update model parameters [ Loss ]\n",
        "5. optimizer : Optimizer to use while updating the model parameters \n",
        "6. Scheduler : Scheduler to change model hyperparameters\n",
        "7. num_epochs : Number of epochs"
      ]
    },
    {
      "cell_type": "code",
      "metadata": {
        "id": "JcyVOopJaLrA",
        "colab_type": "code",
        "colab": {}
      },
      "source": [
        "def train_model(dataloaders, dataset_sizes, model, criterion, optimizer, scheduler, num_epochs=25):\n",
        "    since = time.time()\n",
        "    use_gpu = True\n",
        "    best_model_wts = copy.deepcopy(model.state_dict())\n",
        "    best_acc = 0.0\n",
        "    print(dataset_sizes)\n",
        "    best_validation_loss = 1e9 # initializing with very high error\n",
        "\n",
        "    for epoch in range(num_epochs):\n",
        "        print('Epoch {}/{}'.format(epoch, num_epochs - 1))\n",
        "        print('-' * 10)\n",
        "\n",
        "        # Each epoch has a training and validation phase\n",
        "        for phase in ['train', 'val']:\n",
        "            if phase == 'train':\n",
        "                model.train()  # Set model to training mode\n",
        "            else:\n",
        "                model.eval()   # Set model to evaluate mode\n",
        "\n",
        "            running_loss = 0.0\n",
        "            running_corrects = 0\n",
        "\n",
        "            # Iterate over data.\n",
        "            for inputs, labels in dataloaders[phase]:\n",
        "                inputs = inputs.to(device)\n",
        "                labels = labels.to(device)\n",
        "\n",
        "                # zero the parameter gradients\n",
        "                optimizer.zero_grad()\n",
        "\n",
        "                # forward\n",
        "                # track history if only in train\n",
        "                with torch.set_grad_enabled(phase == 'train'):\n",
        "                    outputs = model(inputs)\n",
        "                    _, preds = torch.max(outputs, 1)\n",
        "                    loss = criterion(outputs, labels)\n",
        "\n",
        "                    # backward + optimize only if in training phase\n",
        "                    if phase == 'train':\n",
        "                        loss.backward()\n",
        "                        optimizer.step()\n",
        "\n",
        "                # statistics\n",
        "                running_loss += loss.item() * inputs.size(0)\n",
        "                running_corrects += torch.sum(preds == labels.data)\n",
        "            if phase == 'train':\n",
        "                scheduler.step()\n",
        "                # save latest for hot restart\n",
        "                states = {\n",
        "                    'epoch': num_epochs,\n",
        "                    'state_dict': model_ft.state_dict(),\n",
        "                    'optimizer': optimizer.state_dict()\n",
        "                }\n",
        "                torch.save(states, \"./Latest_{col}\")\n",
        "\n",
        "            epoch_loss = running_loss / dataset_sizes[phase]\n",
        "            epoch_acc = running_corrects.double() / dataset_sizes[phase]\n",
        "\n",
        "            print('{} Loss: {:.4f} Acc: {:.4f}'.format(\n",
        "                phase, epoch_loss, epoch_acc))\n",
        "\n",
        "            # deep copy the model\n",
        "            if phase == 'val' and epoch_acc > best_acc:\n",
        "                best_acc = epoch_acc\n",
        "                best_model_wts = copy.deepcopy(model.state_dict())\n",
        "                states = {\n",
        "                    'epoch': num_epochs,\n",
        "                    'state_dict': model_ft.state_dict(),\n",
        "                    'optimizer': optimizer_ft.state_dict(),\n",
        "                    'lr_scheduler': exp_lr_scheduler.state_dict()\n",
        "                }\n",
        "                torch.save(states, f\"./{col}_{BatchSize}_SGD_{lr}_{epoch}\")\n",
        "                \n",
        "            # stopping criteria\n",
        "            curr_validation_loss = 0.0\n",
        "            for i, data in enumerate(dataloaders['val']):\n",
        "                inputs, labels = data\n",
        "                if use_gpu:\n",
        "                    inputs, labels = inputs.cuda(), labels.cuda()\n",
        "                outputs = model_ft(inputs)\n",
        "                preds_ = torch.argmax(outputs, dim=1)\n",
        "                loss_ = criterion(outputs, labels)\n",
        "                curr_validation_loss += loss_\n",
        "\n",
        "            if curr_validation_loss < best_validation_loss:\n",
        "                #best model\n",
        "                states = {\n",
        "                    'epoch': num_epochs,\n",
        "                    'state_dict': model_ft.state_dict(),\n",
        "                    'optimizer': optimizer.state_dict(),\n",
        "                }\n",
        "                torch.save(states, \"./Best_LeNet_0_08.mdl\")\n",
        "                best_validation_loss = curr_validation_loss\n",
        "            else:\n",
        "                #early stopping\n",
        "\n",
        "                break\n",
        "\n",
        "        print()\n",
        "\n",
        "    time_elapsed = time.time() - since\n",
        "    print('Training complete in {:.0f}m {:.0f}s'.format(\n",
        "        time_elapsed // 60, time_elapsed % 60))\n",
        "    print('Best val Acc: {:4f}'.format(best_acc))\n",
        "\n",
        "    # load best model weights\n",
        "    model.load_state_dict(best_model_wts)\n",
        "    return model"
      ],
      "execution_count": 0,
      "outputs": []
    },
    {
      "cell_type": "markdown",
      "metadata": {
        "id": "j3t6SLo1mLL-",
        "colab_type": "text"
      },
      "source": [
        "### device to be used by pytorch (GPU if cuda is available, CPU otherwise)"
      ]
    },
    {
      "cell_type": "code",
      "metadata": {
        "id": "uS8EF6NrmOxX",
        "colab_type": "code",
        "colab": {}
      },
      "source": [
        "device = torch.device(\"cuda:0\" if torch.cuda.is_available() else \"cpu\")"
      ],
      "execution_count": 0,
      "outputs": []
    },
    {
      "cell_type": "markdown",
      "metadata": {
        "id": "Mm4dNGBKmdsB",
        "colab_type": "text"
      },
      "source": [
        "## Code for transfer Learning.\n",
        "\n",
        "We are using ResNet18 pretrained model\n",
        "\n",
        "For criterion, we are using CrossEntropyLoss, which is standard loss function for multi class classification task\n",
        "\n",
        "For optimizer, we are using Stochastic Gradient Descent optimizer with learning rate = 0.001 and momentum = 0.9\n",
        "\n",
        "For scheduler, we are decaying learning rate by a factor of 0.1 every 7 epochs"
      ]
    },
    {
      "cell_type": "code",
      "metadata": {
        "id": "leBkmnS6aLrH",
        "colab_type": "code",
        "colab": {}
      },
      "source": [
        "model_ft = models.resnet18(pretrained=True)\n",
        "num_ftrs = model_ft.fc.in_features\n",
        "# Here the size of each output sample is set to 2.\n",
        "# Alternatively, it can be generalized to nn.Linear(num_ftrs, len(class_names)).\n",
        "model_ft.fc = nn.Linear(num_ftrs, 3)\n",
        "\n",
        "model_ft = model_ft.to(device)\n",
        "\n",
        "criterion = nn.CrossEntropyLoss()\n",
        "\n",
        "# Paraperter optimization\n",
        "optimizer_ft = optim.SGD(model_ft.parameters(), lr=0.001, momentum=0.9)\n",
        "\n",
        "# Decrease Learning rate by a factor of 0.1 after every 7 epochs\n",
        "exp_lr_scheduler = lr_scheduler.StepLR(optimizer_ft, step_size=7, gamma=0.1)"
      ],
      "execution_count": 0,
      "outputs": []
    },
    {
      "cell_type": "markdown",
      "metadata": {
        "id": "Zj4cUuqqncYS",
        "colab_type": "text"
      },
      "source": [
        "### Pass all the above parameters as arguments to `train_model` function for training and validation"
      ]
    },
    {
      "cell_type": "code",
      "metadata": {
        "scrolled": true,
        "id": "TK3us_KhaLrO",
        "colab_type": "code",
        "colab": {}
      },
      "source": [
        "# model_ft = train_model(model_ft, criterion, optimizer_ft, exp_lr_scheduler,\n",
        "#                        num_epochs=25)"
      ],
      "execution_count": 0,
      "outputs": []
    },
    {
      "cell_type": "markdown",
      "metadata": {
        "id": "9WXP-wciaLra",
        "colab_type": "text"
      },
      "source": [
        "## Upsampled Non-Pneumonia\n",
        "# we found that Non-Pneumonia dataset is imbalanced therefore we are balancing the dataset in the following code segment."
      ]
    },
    {
      "cell_type": "code",
      "metadata": {
        "id": "Hb8iNV4_aLrb",
        "colab_type": "code",
        "colab": {}
      },
      "source": [
        "def get_balanced(df, col):\n",
        "    frequency_dict = train[col].value_counts()\n",
        "    max_freq = frequency_dict[frequency_dict.index[0]] # 1 as counter indexes in decreasing order\n",
        "    store_all = []\n",
        "    for i in range(frequency_dict.shape[0]):\n",
        "        temp_df = train[train[col] == i]\n",
        "        temp_df_upsampled = resample(temp_df, replace=True, n_samples=max_freq, random_state=42)\n",
        "        store_all.append(temp_df_upsampled)\n",
        "\n",
        "    upsampled_df = pd.concat(store_all)\n",
        "    return upsampled_df"
      ],
      "execution_count": 0,
      "outputs": []
    },
    {
      "cell_type": "code",
      "metadata": {
        "id": "aLpeuemAaLrg",
        "colab_type": "code",
        "colab": {}
      },
      "source": [
        "col = \"Non-Pneumonia\"\n",
        "upsampled_train = get_balanced(train, col)"
      ],
      "execution_count": 0,
      "outputs": []
    },
    {
      "cell_type": "code",
      "metadata": {
        "id": "7X1MczeeaLrl",
        "colab_type": "code",
        "outputId": "aacc3595-4123-4122-c11c-85db86aac61b",
        "colab": {}
      },
      "source": [
        "# just checking if dataframe is oversampled correctly and is now balanced or not\n",
        "upsampled_value_counts = upsampled_train[col].value_counts()\n",
        "sns.barplot(upsampled_value_counts.index, upsampled_value_counts.values)\n",
        "33plt.title('Class frequency')\n",
        "plt.ylabel('Number of Occurrences in train set', fontsize=12)\n",
        "plt.xlabel('city', fontsize=1)\n",
        "plt.show()"
      ],
      "execution_count": 0,
      "outputs": [
        {
          "output_type": "display_data",
          "data": {
            "image/png": "[encoded data removed]",
            "text/plain": [
              "<Figure size 432x288 with 1 Axes>"
            ]
          },
          "metadata": {
            "tags": [],
            "needs_background": "light"
          }
        }
      ]
    },
    {
      "cell_type": "markdown",
      "metadata": {
        "id": "QpSUJzAdoMS_",
        "colab_type": "text"
      },
      "source": [
        "#Code for composing transformation of data.\n",
        "\n",
        " #### Resized the data to [32x32]\n",
        " #### Transformed to tensor\n",
        " #### Normalized\n",
        " ### Batch size has been taken = 512\n",
        "\n",
        " trainset, train loader and validate, validloader is defined here\n"
      ]
    },
    {
      "cell_type": "code",
      "metadata": {
        "id": "0hPQwGMLaLrx",
        "colab_type": "code",
        "colab": {}
      },
      "source": [
        "apply_transform = transforms.Compose([\n",
        "    transforms.Resize((32, 32)), \n",
        "    transforms.ToTensor(),\n",
        "    transforms.Normalize([0.485, 0.456, 0.406], [0.229, 0.224, 0.225])\n",
        "])\n",
        "BatchSize = 512\n",
        "\n",
        "train_ = CovidDataset(upsampled_train, False, 0, transform=apply_transform)\n",
        "trainLoader = torch.utils.data.DataLoader(train_, batch_size=BatchSize,\n",
        "                                          shuffle=True, num_workers=0) # Creating dataloader\n",
        "\n",
        "validate_ = CovidDataset(validate, False, 0, transform=apply_transform)\n",
        "validateLoader = torch.utils.data.DataLoader(validate_, batch_size=BatchSize,\n",
        "                                          shuffle=False, num_workers=0)"
      ],
      "execution_count": 0,
      "outputs": []
    },
    {
      "cell_type": "markdown",
      "metadata": {
        "id": "KD3lbTZVpCMQ",
        "colab_type": "text"
      },
      "source": [
        "# Defining device. (Use GPU is cuda is availabe otherwise use CPU)"
      ]
    },
    {
      "cell_type": "code",
      "metadata": {
        "id": "cjPK1d9cpBgk",
        "colab_type": "code",
        "colab": {}
      },
      "source": [
        "device = torch.device(\"cuda:0\" if torch.cuda.is_available() else \"cpu\")"
      ],
      "execution_count": 0,
      "outputs": []
    },
    {
      "cell_type": "markdown",
      "metadata": {
        "id": "Un0KrBBspKRH",
        "colab_type": "text"
      },
      "source": [
        "## Code for transfer Learning.\n",
        "\n",
        "We are using ResNet18 pretrained model\n",
        "\n",
        "For criterion, we are using CrossEntropyLoss, which is standard loss function for multi class classification task\n",
        "\n",
        "For optimizer, we are using Stochastic Gradient Descent optimizer with learning rate = 0.001 and momentum = 0.9\n",
        "\n",
        "For scheduler, we are decaying learning rate by a factor of 0.1 every 7 epochs"
      ]
    },
    {
      "cell_type": "code",
      "metadata": {
        "id": "EoF82BpnaLr6",
        "colab_type": "code",
        "colab": {}
      },
      "source": [
        "model_ft = models.resnet18(pretrained=True)\n",
        "num_ftrs = model_ft.fc.in_features\n",
        "# Here the size of each output sample is set to 2.\n",
        "# Alternatively, it can be generalized to nn.Linear(num_ftrs, len(class_names)).\n",
        "model_ft.fc = nn.Linear(num_ftrs, 3)\n",
        "\n",
        "model_ft = model_ft.to(device)\n",
        "\n",
        "criterion = nn.CrossEntropyLoss()\n",
        "\n",
        "# Observe that all parameters are being optimized\n",
        "optimizer_ft = optim.SGD(model_ft.parameters(), lr=0.001, momentum=0.9)\n",
        "\n",
        "# Decrease learning rate to 10% after every 7 epochs\n",
        "exp_lr_scheduler = lr_scheduler.StepLR(optimizer_ft, step_size=7, gamma=0.1)"
      ],
      "execution_count": 0,
      "outputs": []
    },
    {
      "cell_type": "markdown",
      "metadata": {
        "id": "Q_saMVBPtePC",
        "colab_type": "text"
      },
      "source": [
        "Runnung the train model"
      ]
    },
    {
      "cell_type": "code",
      "metadata": {
        "id": "c5R9tfaraLr-",
        "colab_type": "code",
        "colab": {}
      },
      "source": [
        "# model_ft = train_model(model_ft, criterion, optimizer_ft, exp_lr_scheduler,\n",
        "#                        num_epochs=3)"
      ],
      "execution_count": 0,
      "outputs": []
    },
    {
      "cell_type": "code",
      "metadata": {
        "id": "XX0DWhgiaLsE",
        "colab_type": "code",
        "colab": {}
      },
      "source": [
        "lr = 0.001\n",
        "num_epochs=25\n",
        "        "
      ],
      "execution_count": 0,
      "outputs": []
    },
    {
      "cell_type": "code",
      "metadata": {
        "id": "Rjx6XLdbaLsL",
        "colab_type": "code",
        "outputId": "ac2e5fee-6200-4f1c-edca-3db15068e258",
        "colab": {}
      },
      "source": [
        "train"
      ],
      "execution_count": 0,
      "outputs": [
        {
          "output_type": "execute_result",
          "data": {
            "text/html": [
              "<div>\n",
              "<style scoped>\n",
              "    .dataframe tbody tr th:only-of-type {\n",
              "        vertical-align: middle;\n",
              "    }\n",
              "\n",
              "    .dataframe tbody tr th {\n",
              "        vertical-align: top;\n",
              "    }\n",
              "\n",
              "    .dataframe thead th {\n",
              "        text-align: right;\n",
              "    }\n",
              "</style>\n",
              "<table border=\"1\" class=\"dataframe\">\n",
              "  <thead>\n",
              "    <tr style=\"text-align: right;\">\n",
              "      <th></th>\n",
              "      <th>Image Name</th>\n",
              "      <th>Data Source</th>\n",
              "      <th>Partition</th>\n",
              "      <th>Non-Pneumonia</th>\n",
              "      <th>Other Pneumonia</th>\n",
              "      <th>COVID-19</th>\n",
              "    </tr>\n",
              "  </thead>\n",
              "  <tbody>\n",
              "    <tr>\n",
              "      <th>3795</th>\n",
              "      <td>Train_reshape/CheXpert-v1.0__train__patient252...</td>\n",
              "      <td>Source-3</td>\n",
              "      <td>1</td>\n",
              "      <td>2</td>\n",
              "      <td>1</td>\n",
              "      <td>0</td>\n",
              "    </tr>\n",
              "    <tr>\n",
              "      <th>95674</th>\n",
              "      <td>Train_reshape/CheXpert-v1.0__train__patient354...</td>\n",
              "      <td>Source-3</td>\n",
              "      <td>3</td>\n",
              "      <td>2</td>\n",
              "      <td>1</td>\n",
              "      <td>0</td>\n",
              "    </tr>\n",
              "    <tr>\n",
              "      <th>35673</th>\n",
              "      <td>Train_reshape/CheXpert-v1.0__train__patient029...</td>\n",
              "      <td>Source-3</td>\n",
              "      <td>1</td>\n",
              "      <td>2</td>\n",
              "      <td>1</td>\n",
              "      <td>0</td>\n",
              "    </tr>\n",
              "    <tr>\n",
              "      <th>55566</th>\n",
              "      <td>Train_reshape/CheXpert-v1.0__train__patient044...</td>\n",
              "      <td>Source-3</td>\n",
              "      <td>2</td>\n",
              "      <td>0</td>\n",
              "      <td>0</td>\n",
              "      <td>0</td>\n",
              "    </tr>\n",
              "    <tr>\n",
              "      <th>138097</th>\n",
              "      <td>Train_reshape/CheXpert-v1.0__train__patient206...</td>\n",
              "      <td>Source-3</td>\n",
              "      <td>4</td>\n",
              "      <td>2</td>\n",
              "      <td>1</td>\n",
              "      <td>0</td>\n",
              "    </tr>\n",
              "    <tr>\n",
              "      <th>...</th>\n",
              "      <td>...</td>\n",
              "      <td>...</td>\n",
              "      <td>...</td>\n",
              "      <td>...</td>\n",
              "      <td>...</td>\n",
              "      <td>...</td>\n",
              "    </tr>\n",
              "    <tr>\n",
              "      <th>33860</th>\n",
              "      <td>Train_reshape/CheXpert-v1.0__train__patient102...</td>\n",
              "      <td>Source-3</td>\n",
              "      <td>1</td>\n",
              "      <td>2</td>\n",
              "      <td>1</td>\n",
              "      <td>0</td>\n",
              "    </tr>\n",
              "    <tr>\n",
              "      <th>28735</th>\n",
              "      <td>Train_reshape/CheXpert-v1.0__train__patient336...</td>\n",
              "      <td>Source-3</td>\n",
              "      <td>1</td>\n",
              "      <td>2</td>\n",
              "      <td>1</td>\n",
              "      <td>0</td>\n",
              "    </tr>\n",
              "    <tr>\n",
              "      <th>63220</th>\n",
              "      <td>Train_reshape/CheXpert-v1.0__train__patient290...</td>\n",
              "      <td>Source-3</td>\n",
              "      <td>2</td>\n",
              "      <td>2</td>\n",
              "      <td>1</td>\n",
              "      <td>0</td>\n",
              "    </tr>\n",
              "    <tr>\n",
              "      <th>26389</th>\n",
              "      <td>Train_reshape/CheXpert-v1.0__train__patient495...</td>\n",
              "      <td>Source-3</td>\n",
              "      <td>1</td>\n",
              "      <td>2</td>\n",
              "      <td>1</td>\n",
              "      <td>0</td>\n",
              "    </tr>\n",
              "    <tr>\n",
              "      <th>62407</th>\n",
              "      <td>Train_reshape/CheXpert-v1.0__train__patient151...</td>\n",
              "      <td>Source-3</td>\n",
              "      <td>2</td>\n",
              "      <td>2</td>\n",
              "      <td>1</td>\n",
              "      <td>0</td>\n",
              "    </tr>\n",
              "  </tbody>\n",
              "</table>\n",
              "<p>178964 rows × 6 columns</p>\n",
              "</div>"
            ],
            "text/plain": [
              "                                               Image Name Data Source  \\\n",
              "3795    Train_reshape/CheXpert-v1.0__train__patient252...    Source-3   \n",
              "95674   Train_reshape/CheXpert-v1.0__train__patient354...    Source-3   \n",
              "35673   Train_reshape/CheXpert-v1.0__train__patient029...    Source-3   \n",
              "55566   Train_reshape/CheXpert-v1.0__train__patient044...    Source-3   \n",
              "138097  Train_reshape/CheXpert-v1.0__train__patient206...    Source-3   \n",
              "...                                                   ...         ...   \n",
              "33860   Train_reshape/CheXpert-v1.0__train__patient102...    Source-3   \n",
              "28735   Train_reshape/CheXpert-v1.0__train__patient336...    Source-3   \n",
              "63220   Train_reshape/CheXpert-v1.0__train__patient290...    Source-3   \n",
              "26389   Train_reshape/CheXpert-v1.0__train__patient495...    Source-3   \n",
              "62407   Train_reshape/CheXpert-v1.0__train__patient151...    Source-3   \n",
              "\n",
              "        Partition  Non-Pneumonia  Other Pneumonia  COVID-19  \n",
              "3795            1              2                1         0  \n",
              "95674           3              2                1         0  \n",
              "35673           1              2                1         0  \n",
              "55566           2              0                0         0  \n",
              "138097          4              2                1         0  \n",
              "...           ...            ...              ...       ...  \n",
              "33860           1              2                1         0  \n",
              "28735           1              2                1         0  \n",
              "63220           2              2                1         0  \n",
              "26389           1              2                1         0  \n",
              "62407           2              2                1         0  \n",
              "\n",
              "[178964 rows x 6 columns]"
            ]
          },
          "metadata": {
            "tags": []
          },
          "execution_count": 55
        }
      ]
    },
    {
      "cell_type": "markdown",
      "metadata": {
        "id": "Ckjd8IRxuH6v",
        "colab_type": "text"
      },
      "source": [
        "#Function to get final dataset and dataloader and finally train the model on dataset\n",
        "\n",
        "learning rate = 0.001\n",
        "\n",
        "nummber of epochs =25\n"
      ]
    },
    {
      "cell_type": "code",
      "metadata": {
        "id": "FbVKfE8FaLsY",
        "colab_type": "code",
        "colab": {}
      },
      "source": [
        "def final(train, validate, num_of_images):\n",
        "    lr = 0.001\n",
        "    num_epochs=25\n",
        "    use_gpu = True\n",
        "    \n",
        "    validate = validate[:num_of_images]\n",
        "    \n",
        "    cols = [\"Non-Pneumonia\", \"Other Pneumonia\", \"COVID-19\"]\n",
        "    for col in cols:\n",
        "        upsampled_train = get_balanced(train, col)\n",
        "        upsampled_train = upsampled_train[:num_of_images]\n",
        "        \n",
        "        apply_transform = transforms.Compose([\n",
        "            transforms.Resize((32, 32)), \n",
        "            transforms.ToTensor(),\n",
        "            transforms.Normalize([0.485, 0.456, 0.406], [0.229, 0.224, 0.225])\n",
        "        ])\n",
        "        BatchSize = 256\n",
        "        print(\"Training df size \", upsampled_train.shape[0])\n",
        "        train_ = CovidDataset(upsampled_train, False, 0, transform=apply_transform)\n",
        "        trainLoader = torch.utils.data.DataLoader(train_, batch_size=BatchSize,\n",
        "                                                  shuffle=True, num_workers=0) # Creating dataloader\n",
        "\n",
        "        validate_ = CovidDataset(validate, False, 0, transform=apply_transform)\n",
        "        validateLoader = torch.utils.data.DataLoader(validate_, batch_size=BatchSize,\n",
        "                                          shuffle=False, num_workers=0)\n",
        "        \n",
        "        dataloaders = {\n",
        "            'train': trainLoader,\n",
        "            'val': validateLoader\n",
        "        }\n",
        "\n",
        "        dataset_sizes = {\n",
        "            'train': len(train),\n",
        "            'val': len(validate)\n",
        "        }\n",
        "        \n",
        "\n",
        "        model_ft = models.resnet18(pretrained=True)\n",
        "        num_ftrs = model_ft.fc.in_features\n",
        "        model_ft.fc = nn.Linear(num_ftrs, 3)\n",
        "        if use_gpu:\n",
        "            model_ft = model_ft.cuda()\n",
        "\n",
        "        criterion = nn.CrossEntropyLoss()\n",
        "\n",
        "        # Observe that all parameters are being optimized\n",
        "        optimizer_ft = optim.SGD(model_ft.parameters(), lr=lr, momentum=0.9)\n",
        "\n",
        "        # Decay LR by a factor of 0.1 every 7 epochs\n",
        "        exp_lr_scheduler = lr_scheduler.StepLR(optimizer_ft, step_size=7, gamma=0.1)\n",
        "        \n",
        "        model_ft = train_model(dataloaders, dataset_sizes, model_ft, criterion, optimizer_ft, exp_lr_scheduler,\n",
        "                       num_epochs=num_epochs)\n"
      ],
      "execution_count": 0,
      "outputs": []
    },
    {
      "cell_type": "code",
      "metadata": {
        "id": "8sskSZphaLsi",
        "colab_type": "code",
        "outputId": "29414abd-872c-4c6d-e8c1-563009d7ae55",
        "colab": {}
      },
      "source": [
        "final(train, validate, 3000)"
      ],
      "execution_count": 0,
      "outputs": [
        {
          "output_type": "stream",
          "text": [
            "Training df size  3000\n",
            "{'train': 178964, 'val': 3000}\n",
            "Epoch 0/24\n",
            "----------\n",
            "train Loss: 0.0112 Acc: 0.0118\n",
            "val Loss: 1.6322 Acc: 0.0913\n",
            "\n",
            "Epoch 1/24\n",
            "----------\n",
            "train Loss: 0.0004 Acc: 0.0168\n",
            "val Loss: 2.6339 Acc: 0.0913\n",
            "\n",
            "Epoch 2/24\n",
            "----------\n",
            "train Loss: 0.0000 Acc: 0.0168\n",
            "val Loss: 4.1582 Acc: 0.0913\n",
            "\n",
            "Epoch 3/24\n",
            "----------\n",
            "train Loss: 0.0000 Acc: 0.0168\n",
            "val Loss: 5.8819 Acc: 0.0913\n",
            "\n",
            "Epoch 4/24\n",
            "----------\n",
            "train Loss: 0.0000 Acc: 0.0168\n",
            "val Loss: 7.3263 Acc: 0.0913\n",
            "\n",
            "Epoch 5/24\n",
            "----------\n",
            "train Loss: 0.0000 Acc: 0.0168\n",
            "val Loss: 8.4390 Acc: 0.0913\n",
            "\n",
            "Epoch 6/24\n",
            "----------\n",
            "train Loss: 0.0000 Acc: 0.0168\n",
            "val Loss: 9.3156 Acc: 0.0913\n",
            "\n",
            "Epoch 7/24\n",
            "----------\n",
            "train Loss: 0.0000 Acc: 0.0168\n",
            "val Loss: 9.8279 Acc: 0.0913\n",
            "\n",
            "Epoch 8/24\n",
            "----------\n",
            "train Loss: 0.0000 Acc: 0.0168\n",
            "val Loss: 10.2029 Acc: 0.0913\n",
            "\n",
            "Epoch 9/24\n",
            "----------\n",
            "train Loss: 0.0000 Acc: 0.0168\n",
            "val Loss: 10.4208 Acc: 0.0913\n",
            "\n",
            "Epoch 10/24\n",
            "----------\n",
            "train Loss: 0.0000 Acc: 0.0168\n",
            "val Loss: 10.5534 Acc: 0.0913\n",
            "\n",
            "Epoch 11/24\n",
            "----------\n",
            "train Loss: 0.0000 Acc: 0.0168\n",
            "val Loss: 10.5996 Acc: 0.0913\n",
            "\n",
            "Epoch 12/24\n",
            "----------\n",
            "train Loss: 0.0000 Acc: 0.0168\n",
            "val Loss: 10.6500 Acc: 0.0913\n",
            "\n",
            "Epoch 13/24\n",
            "----------\n",
            "train Loss: 0.0000 Acc: 0.0168\n",
            "val Loss: 10.6759 Acc: 0.0913\n",
            "\n",
            "Epoch 14/24\n",
            "----------\n",
            "train Loss: 0.0000 Acc: 0.0168\n",
            "val Loss: 10.6866 Acc: 0.0913\n",
            "\n",
            "Epoch 15/24\n",
            "----------\n",
            "train Loss: 0.0000 Acc: 0.0168\n",
            "val Loss: 10.6902 Acc: 0.0913\n",
            "\n",
            "Epoch 16/24\n",
            "----------\n",
            "train Loss: 0.0000 Acc: 0.0168\n",
            "val Loss: 10.6759 Acc: 0.0913\n",
            "\n",
            "Epoch 17/24\n",
            "----------\n",
            "train Loss: 0.0000 Acc: 0.0168\n",
            "val Loss: 10.6921 Acc: 0.0913\n",
            "\n",
            "Epoch 18/24\n",
            "----------\n",
            "train Loss: 0.0000 Acc: 0.0168\n",
            "val Loss: 10.6981 Acc: 0.0913\n",
            "\n",
            "Epoch 19/24\n",
            "----------\n",
            "train Loss: 0.0000 Acc: 0.0168\n",
            "val Loss: 10.7002 Acc: 0.0913\n",
            "\n",
            "Epoch 20/24\n",
            "----------\n",
            "train Loss: 0.0000 Acc: 0.0168\n",
            "val Loss: 10.6908 Acc: 0.0913\n",
            "\n",
            "Epoch 21/24\n",
            "----------\n",
            "train Loss: 0.0000 Acc: 0.0168\n",
            "val Loss: 10.6789 Acc: 0.0913\n",
            "\n",
            "Epoch 22/24\n",
            "----------\n",
            "train Loss: 0.0000 Acc: 0.0168\n",
            "val Loss: 10.7076 Acc: 0.0913\n",
            "\n",
            "Epoch 23/24\n",
            "----------\n",
            "train Loss: 0.0000 Acc: 0.0168\n",
            "val Loss: 10.7166 Acc: 0.0913\n",
            "\n",
            "Epoch 24/24\n",
            "----------\n",
            "train Loss: 0.0000 Acc: 0.0168\n",
            "val Loss: 10.7007 Acc: 0.0913\n",
            "\n",
            "Training complete in 18m 14s\n",
            "Best val Acc: 0.091333\n",
            "Training df size  3000\n",
            "{'train': 178964, 'val': 3000}\n",
            "Epoch 0/24\n",
            "----------\n",
            "train Loss: 0.0127 Acc: 0.0113\n",
            "val Loss: 2.0754 Acc: 0.0913\n",
            "\n",
            "Epoch 1/24\n",
            "----------\n",
            "train Loss: 0.0004 Acc: 0.0168\n",
            "val Loss: 3.1180 Acc: 0.0913\n",
            "\n",
            "Epoch 2/24\n",
            "----------\n",
            "train Loss: 0.0000 Acc: 0.0168\n",
            "val Loss: 4.5843 Acc: 0.0913\n",
            "\n",
            "Epoch 3/24\n",
            "----------\n",
            "train Loss: 0.0000 Acc: 0.0168\n",
            "val Loss: 6.2805 Acc: 0.0913\n",
            "\n",
            "Epoch 4/24\n",
            "----------\n",
            "train Loss: 0.0000 Acc: 0.0168\n",
            "val Loss: 7.7214 Acc: 0.0913\n",
            "\n",
            "Epoch 5/24\n",
            "----------\n",
            "train Loss: 0.0000 Acc: 0.0168\n",
            "val Loss: 8.9309 Acc: 0.0913\n",
            "\n",
            "Epoch 6/24\n",
            "----------\n",
            "train Loss: 0.0000 Acc: 0.0168\n",
            "val Loss: 9.9060 Acc: 0.0913\n",
            "\n",
            "Epoch 7/24\n",
            "----------\n",
            "train Loss: 0.0000 Acc: 0.0168\n",
            "val Loss: 10.5759 Acc: 0.0913\n",
            "\n",
            "Epoch 8/24\n",
            "----------\n",
            "train Loss: 0.0000 Acc: 0.0168\n",
            "val Loss: 11.0570 Acc: 0.0913\n",
            "\n",
            "Epoch 9/24\n",
            "----------\n",
            "train Loss: 0.0000 Acc: 0.0168\n",
            "val Loss: 11.3642 Acc: 0.0913\n",
            "\n",
            "Epoch 10/24\n",
            "----------\n",
            "train Loss: 0.0000 Acc: 0.0168\n",
            "val Loss: 11.5540 Acc: 0.0913\n",
            "\n",
            "Epoch 11/24\n",
            "----------\n",
            "train Loss: 0.0000 Acc: 0.0168\n",
            "val Loss: 11.6397 Acc: 0.0913\n",
            "\n",
            "Epoch 12/24\n",
            "----------\n",
            "train Loss: 0.0000 Acc: 0.0168\n",
            "val Loss: 11.7158 Acc: 0.0913\n",
            "\n",
            "Epoch 13/24\n",
            "----------\n",
            "train Loss: 0.0000 Acc: 0.0168\n",
            "val Loss: 11.7521 Acc: 0.0913\n",
            "\n",
            "Epoch 14/24\n",
            "----------\n",
            "train Loss: 0.0000 Acc: 0.0168\n",
            "val Loss: 11.7505 Acc: 0.0913\n",
            "\n",
            "Epoch 15/24\n",
            "----------\n",
            "train Loss: 0.0000 Acc: 0.0168\n",
            "val Loss: 11.7680 Acc: 0.0913\n",
            "\n",
            "Epoch 16/24\n",
            "----------\n",
            "train Loss: 0.0000 Acc: 0.0168\n",
            "val Loss: 11.7872 Acc: 0.0913\n",
            "\n",
            "Epoch 17/24\n",
            "----------\n",
            "train Loss: 0.0000 Acc: 0.0168\n",
            "val Loss: 11.7458 Acc: 0.0913\n",
            "\n",
            "Epoch 18/24\n",
            "----------\n",
            "train Loss: 0.0000 Acc: 0.0168\n",
            "val Loss: 11.7735 Acc: 0.0913\n",
            "\n",
            "Epoch 19/24\n",
            "----------\n",
            "train Loss: 0.0000 Acc: 0.0168\n",
            "val Loss: 11.7705 Acc: 0.0913\n",
            "\n",
            "Epoch 20/24\n",
            "----------\n",
            "train Loss: 0.0000 Acc: 0.0168\n",
            "val Loss: 11.7726 Acc: 0.0913\n",
            "\n",
            "Epoch 21/24\n",
            "----------\n",
            "train Loss: 0.0000 Acc: 0.0168\n",
            "val Loss: 11.7653 Acc: 0.0913\n",
            "\n",
            "Epoch 22/24\n",
            "----------\n",
            "train Loss: 0.0000 Acc: 0.0168\n",
            "val Loss: 11.7385 Acc: 0.0913\n",
            "\n",
            "Epoch 23/24\n",
            "----------\n",
            "train Loss: 0.0000 Acc: 0.0168\n",
            "val Loss: 11.7711 Acc: 0.0913\n",
            "\n",
            "Epoch 24/24\n",
            "----------\n",
            "train Loss: 0.0000 Acc: 0.0168\n",
            "val Loss: 11.7942 Acc: 0.0913\n",
            "\n",
            "Training complete in 17m 27s\n",
            "Best val Acc: 0.091333\n",
            "Training df size  3000\n",
            "{'train': 178964, 'val': 3000}\n",
            "Epoch 0/24\n",
            "----------\n",
            "train Loss: 0.0108 Acc: 0.0131\n",
            "val Loss: 0.7990 Acc: 0.8480\n",
            "\n",
            "Epoch 1/24\n",
            "----------\n",
            "train Loss: 0.0085 Acc: 0.0148\n",
            "val Loss: 0.5894 Acc: 0.8757\n",
            "\n",
            "Epoch 2/24\n",
            "----------\n",
            "train Loss: 0.0081 Acc: 0.0148\n",
            "val Loss: 0.5184 Acc: 0.8757\n",
            "\n",
            "Epoch 3/24\n",
            "----------\n",
            "train Loss: 0.0064 Acc: 0.0148\n",
            "val Loss: 0.5185 Acc: 0.8743\n",
            "\n",
            "Epoch 4/24\n",
            "----------\n",
            "train Loss: 0.0058 Acc: 0.0150\n",
            "val Loss: 0.5080 Acc: 0.8730\n",
            "\n",
            "Epoch 5/24\n",
            "----------\n",
            "train Loss: 0.0052 Acc: 0.0150\n",
            "val Loss: 0.4885 Acc: 0.8743\n",
            "\n",
            "Epoch 6/24\n",
            "----------\n",
            "train Loss: 0.0046 Acc: 0.0149\n",
            "val Loss: 0.5027 Acc: 0.8747\n",
            "\n",
            "Epoch 7/24\n",
            "----------\n",
            "train Loss: 0.0043 Acc: 0.0150\n",
            "val Loss: 0.5154 Acc: 0.8750\n",
            "\n",
            "Epoch 8/24\n",
            "----------\n",
            "train Loss: 0.0043 Acc: 0.0150\n",
            "val Loss: 0.5248 Acc: 0.8750\n",
            "\n",
            "Epoch 9/24\n",
            "----------\n",
            "train Loss: 0.0042 Acc: 0.0150\n",
            "val Loss: 0.5308 Acc: 0.8750\n",
            "\n",
            "Epoch 10/24\n",
            "----------\n",
            "train Loss: 0.0041 Acc: 0.0150\n",
            "val Loss: 0.5334 Acc: 0.8747\n",
            "\n",
            "Epoch 11/24\n",
            "----------\n",
            "train Loss: 0.0041 Acc: 0.0151\n",
            "val Loss: 0.5347 Acc: 0.8743\n",
            "\n",
            "Epoch 12/24\n",
            "----------\n",
            "train Loss: 0.0040 Acc: 0.0151\n",
            "val Loss: 0.5349 Acc: 0.8747\n",
            "\n",
            "Epoch 13/24\n",
            "----------\n",
            "train Loss: 0.0039 Acc: 0.0151\n",
            "val Loss: 0.5350 Acc: 0.8743\n",
            "\n",
            "Epoch 14/24\n",
            "----------\n",
            "train Loss: 0.0039 Acc: 0.0151\n",
            "val Loss: 0.5357 Acc: 0.8743\n",
            "\n",
            "Epoch 15/24\n",
            "----------\n",
            "train Loss: 0.0039 Acc: 0.0151\n",
            "val Loss: 0.5359 Acc: 0.8743\n",
            "\n",
            "Epoch 16/24\n",
            "----------\n",
            "train Loss: 0.0039 Acc: 0.0151\n",
            "val Loss: 0.5361 Acc: 0.8743\n",
            "\n",
            "Epoch 17/24\n",
            "----------\n",
            "train Loss: 0.0039 Acc: 0.0151\n",
            "val Loss: 0.5358 Acc: 0.8743\n",
            "\n",
            "Epoch 18/24\n",
            "----------\n",
            "train Loss: 0.0039 Acc: 0.0151\n",
            "val Loss: 0.5363 Acc: 0.8743\n",
            "\n",
            "Epoch 19/24\n",
            "----------\n",
            "train Loss: 0.0039 Acc: 0.0151\n",
            "val Loss: 0.5364 Acc: 0.8743\n",
            "\n",
            "Epoch 20/24\n",
            "----------\n",
            "train Loss: 0.0039 Acc: 0.0151\n",
            "val Loss: 0.5365 Acc: 0.8743\n",
            "\n",
            "Epoch 21/24\n",
            "----------\n",
            "train Loss: 0.0039 Acc: 0.0151\n",
            "val Loss: 0.5367 Acc: 0.8743\n",
            "\n",
            "Epoch 22/24\n",
            "----------\n",
            "train Loss: 0.0039 Acc: 0.0151\n",
            "val Loss: 0.5371 Acc: 0.8743\n",
            "\n",
            "Epoch 23/24\n",
            "----------\n",
            "train Loss: 0.0039 Acc: 0.0151\n",
            "val Loss: 0.5375 Acc: 0.8743\n",
            "\n",
            "Epoch 24/24\n",
            "----------\n",
            "train Loss: 0.0039 Acc: 0.0152\n",
            "val Loss: 0.5376 Acc: 0.8743\n",
            "\n",
            "Training complete in 17m 33s\n",
            "Best val Acc: 0.875667\n"
          ],
          "name": "stdout"
        }
      ]
    },
    {
      "cell_type": "markdown",
      "metadata": {
        "id": "FdVj1mrPtSE6",
        "colab_type": "text"
      },
      "source": [
        "## Number of data from each source folder"
      ]
    },
    {
      "cell_type": "code",
      "metadata": {
        "id": "STfe3Gg4aLsz",
        "colab_type": "code",
        "outputId": "c823ec8a-3e48-4c07-962c-d362e3ec4b95",
        "colab": {}
      },
      "source": [
        "tmp[\"Data Source\"].value_counts()"
      ],
      "execution_count": 0,
      "outputs": [
        {
          "output_type": "execute_result",
          "data": {
            "text/plain": [
              "Source-4    624\n",
              "Source-3    234\n",
              "Source-6     31\n",
              "Source-5     25\n",
              "Source-1     25\n",
              "Source-2     10\n",
              "Name: Data Source, dtype: int64"
            ]
          },
          "metadata": {
            "tags": []
          },
          "execution_count": 57
        }
      ]
    },
    {
      "cell_type": "markdown",
      "metadata": {
        "id": "mGKCuzsqaLs7",
        "colab_type": "text"
      },
      "source": [
        "## Testing accuracy of the trained model. Used source-4 in this case\n"
      ]
    },
    {
      "cell_type": "code",
      "metadata": {
        "id": "v4SOc0OeaLs8",
        "colab_type": "code",
        "colab": {}
      },
      "source": [
        "test = pd.read_csv(\"data/dataset/Covid19action-radiology-CXR_v1.1/Test_Combined.csv\")\n",
        "test = test[test[\"Data Source\"] != \"Source-4\"]"
      ],
      "execution_count": 0,
      "outputs": []
    },
    {
      "cell_type": "code",
      "metadata": {
        "id": "J_s_qsz8aLtD",
        "colab_type": "code",
        "colab": {}
      },
      "source": [
        "test_ = CovidDataset(test, False, 0, transform=apply_transform)\n",
        "testLoader = torch.utils.data.DataLoader(test_, batch_size=BatchSize,\n",
        "                                          shuffle=True, num_workers=0) # Creating dataloader\n"
      ],
      "execution_count": 0,
      "outputs": []
    },
    {
      "cell_type": "code",
      "metadata": {
        "id": "tu0vTpkhaLtK",
        "colab_type": "code",
        "outputId": "a093d204-5801-49fc-d3ba-f92a15bada0f",
        "colab": {}
      },
      "source": [
        "test.shape"
      ],
      "execution_count": 0,
      "outputs": [
        {
          "output_type": "execute_result",
          "data": {
            "text/plain": [
              "(325, 5)"
            ]
          },
          "metadata": {
            "tags": []
          },
          "execution_count": 83
        }
      ]
    },
    {
      "cell_type": "code",
      "metadata": {
        "id": "KjnvU7GsaLtQ",
        "colab_type": "code",
        "outputId": "559a9828-15e6-4b76-e313-4b9f9e7f9b2a",
        "colab": {}
      },
      "source": [
        "cols = [\"Non-Pneumonia\", \"Other Pneumonia\", \"COVID-19\"]\n",
        "name = {\n",
        "    cols[0]: 5,\n",
        "    cols[1]: 3,\n",
        "    cols[2]: 3\n",
        "}\n",
        "for col in cols:\n",
        "    correct_pred = 0\n",
        "    for data in testLoader:\n",
        "        inputs,labels = data\n",
        "        inputs, labels = inputs.cuda(),labels.cuda()\n",
        "        #load model\n",
        "        device = torch.device(\"cuda:0\" if torch.cuda.is_available() else \"cpu\")\n",
        "\n",
        "        model_ft = models.resnet18(pretrained=True)\n",
        "        num_ftrs = model_ft.fc.in_features\n",
        "        # Here the size of each output sample is set to 2.\n",
        "        # Alternatively, it can be generalized to nn.Linear(num_ftrs, len(class_names)).\n",
        "        model_ft.fc = nn.Linear(num_ftrs, 3)\n",
        "\n",
        "        model_ft = model_ft.to(device)\n",
        "        checkpoint = torch.load(f\"./{col}_{BatchSize}_SGD_{lr}_{name[col]}\")\n",
        "        model_ft.load_state_dict(checkpoint['state_dict'], strict=False)\n",
        "        \n",
        "        # Feedforward train data batch through model\n",
        "        output = model_ft(inputs) \n",
        "        # Predicted class is the one with maximum probability\n",
        "        preds = torch.argmax(output,dim=1)\n",
        "        correct_pred += torch.sum(preds==labels)\n",
        "\n",
        "\n",
        "    test_accuracy = correct_pred.item()/len(test)\n",
        "    print('Testing accuracy = ',test_accuracy*100)"
      ],
      "execution_count": 0,
      "outputs": [
        {
          "output_type": "stream",
          "text": [
            "Testing accuracy =  10.76923076923077\n",
            "Testing accuracy =  0.3076923076923077\n",
            "Testing accuracy =  0.0\n"
          ],
          "name": "stdout"
        }
      ]
    },
    {
      "cell_type": "markdown",
      "metadata": {
        "id": "rkhTeSohaLtV",
        "colab_type": "text"
      },
      "source": [
        "# Only a few epochs could be run due to which a very less amount of accuracy is avaiable here."
      ]
    },
    {
      "cell_type": "markdown",
      "metadata": {
        "id": "2kDyLGqOaLtY",
        "colab_type": "text"
      },
      "source": [
        "## Further traing using more images"
      ]
    },
    {
      "cell_type": "markdown",
      "metadata": {
        "id": "TyjgIlVNtHzP",
        "colab_type": "text"
      },
      "source": [
        "We can incorporate codes to acquire more data and train the model with tne new data set."
      ]
    },
    {
      "cell_type": "markdown",
      "metadata": {
        "id": "x5eiFZIIsuA6",
        "colab_type": "text"
      },
      "source": [
        "# Whole dataset could not be trained due to computation capability limitation and time limitation. Due to MTP works it was not possible to fully dedicate myself to this project. This project requires much more rigorous work and I will update future works in my gitHub repositery afterwards."
      ]
    }
  ]
}